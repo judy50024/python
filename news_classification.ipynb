{
 "cells": [
  {
   "cell_type": "code",
   "execution_count": 12,
   "metadata": {},
   "outputs": [],
   "source": [
    "import glob\n",
    "import os\n",
    "import pandas as pd\n",
    "fs = glob.glob(\"chinese_news_test/*/*.[tT][xX][tT]\")\n",
    "cats = []\n",
    "contents = []\n",
    "for fname in fs:\n",
    "    fn = os.path.split(fname)[-1]\n",
    "    with open(fname, \"r\", encoding=\"utf-8\") as f:\n",
    "        content = f.read()\n",
    "        contents.append(content)\n",
    "    dn = os.path.split(fname)[0]\n",
    "    dn = os.path.split(dn)[-1]\n",
    "    cats.append(dn)\n",
    "test_df = pd.DataFrame({\n",
    "    \"content\":contents,\n",
    "    \"ans\":cats\n",
    "})\n",
    "s= test_df"
   ]
  },
  {
   "cell_type": "code",
   "execution_count": 13,
   "metadata": {},
   "outputs": [
    {
     "data": {
      "text/html": [
       "<div>\n",
       "<style scoped>\n",
       "    .dataframe tbody tr th:only-of-type {\n",
       "        vertical-align: middle;\n",
       "    }\n",
       "\n",
       "    .dataframe tbody tr th {\n",
       "        vertical-align: top;\n",
       "    }\n",
       "\n",
       "    .dataframe thead th {\n",
       "        text-align: right;\n",
       "    }\n",
       "</style>\n",
       "<table border=\"1\" class=\"dataframe\">\n",
       "  <thead>\n",
       "    <tr style=\"text-align: right;\">\n",
       "      <th></th>\n",
       "      <th>content</th>\n",
       "      <th>ans</th>\n",
       "    </tr>\n",
       "  </thead>\n",
       "  <tbody>\n",
       "    <tr>\n",
       "      <th>0</th>\n",
       "      <td>【 日  期 】19960104\\n【 版  號 】1\\n【 標  題 】合巢蕪高速公路巢蕪...</td>\n",
       "      <td>交通</td>\n",
       "    </tr>\n",
       "    <tr>\n",
       "      <th>1</th>\n",
       "      <td>【 日  期 】19960226\\n【 版  號 】5\\n【 標  題 】我首臺載人磁懸浮列...</td>\n",
       "      <td>交通</td>\n",
       "    </tr>\n",
       "    <tr>\n",
       "      <th>2</th>\n",
       "      <td>大秦鐵路萬噸列車試運成功\\n新華社北京５月２４日電（通訊員李忠民）大秦...</td>\n",
       "      <td>交通</td>\n",
       "    </tr>\n",
       "    <tr>\n",
       "      <th>3</th>\n",
       "      <td>遼寧省檯安縣村村都通柏油路鄉村公路建設全國數第\\n一\\n    (4)...</td>\n",
       "      <td>交通</td>\n",
       "    </tr>\n",
       "    <tr>\n",
       "      <th>4</th>\n",
       "      <td>北京—烏蘭巴托—莫斯料３／４次國際旅客列車通車\\n３０週年\\n    ...</td>\n",
       "      <td>交通</td>\n",
       "    </tr>\n",
       "    <tr>\n",
       "      <th>...</th>\n",
       "      <td>...</td>\n",
       "      <td>...</td>\n",
       "    </tr>\n",
       "    <tr>\n",
       "      <th>2632</th>\n",
       "      <td>馬玉芹破女子４００米跑全國青年紀錄\\n新華社鞍山５月１０日電（通訊員王...</td>\n",
       "      <td>體育</td>\n",
       "    </tr>\n",
       "    <tr>\n",
       "      <th>2633</th>\n",
       "      <td>國際奧委會中國臺北委員吳經國訪問北京\\n新華社北京５月１０日電記者《中...</td>\n",
       "      <td>體育</td>\n",
       "    </tr>\n",
       "    <tr>\n",
       "      <th>2634</th>\n",
       "      <td>亞奧理事會３９個成員組織全部以書面形式確認參加\\n第十一屆亞運會\\n ...</td>\n",
       "      <td>體育</td>\n",
       "    </tr>\n",
       "    <tr>\n",
       "      <th>2635</th>\n",
       "      <td>世界盃乒乓球團體賽男子團體採用新賽制\\n新華社北京５月１０日電（記者樑...</td>\n",
       "      <td>體育</td>\n",
       "    </tr>\n",
       "    <tr>\n",
       "      <th>2636</th>\n",
       "      <td>登頂隊員簡介\\n新華社珠穆朗瑪峰５月１０日電登頂隊員簡介\\n     ...</td>\n",
       "      <td>體育</td>\n",
       "    </tr>\n",
       "  </tbody>\n",
       "</table>\n",
       "<p>2637 rows × 2 columns</p>\n",
       "</div>"
      ],
      "text/plain": [
       "                                                content ans\n",
       "0     【 日  期 】19960104\\n【 版  號 】1\\n【 標  題 】合巢蕪高速公路巢蕪...  交通\n",
       "1     【 日  期 】19960226\\n【 版  號 】5\\n【 標  題 】我首臺載人磁懸浮列...  交通\n",
       "2                大秦鐵路萬噸列車試運成功\\n新華社北京５月２４日電（通訊員李忠民）大秦...  交通\n",
       "3                遼寧省檯安縣村村都通柏油路鄉村公路建設全國數第\\n一\\n    (4)...  交通\n",
       "4                北京—烏蘭巴托—莫斯料３／４次國際旅客列車通車\\n３０週年\\n    ...  交通\n",
       "...                                                 ...  ..\n",
       "2632             馬玉芹破女子４００米跑全國青年紀錄\\n新華社鞍山５月１０日電（通訊員王...  體育\n",
       "2633             國際奧委會中國臺北委員吳經國訪問北京\\n新華社北京５月１０日電記者《中...  體育\n",
       "2634             亞奧理事會３９個成員組織全部以書面形式確認參加\\n第十一屆亞運會\\n ...  體育\n",
       "2635             世界盃乒乓球團體賽男子團體採用新賽制\\n新華社北京５月１０日電（記者樑...  體育\n",
       "2636             登頂隊員簡介\\n新華社珠穆朗瑪峰５月１０日電登頂隊員簡介\\n     ...  體育\n",
       "\n",
       "[2637 rows x 2 columns]"
      ]
     },
     "execution_count": 13,
     "metadata": {},
     "output_type": "execute_result"
    }
   ],
   "source": [
    "fs = glob.glob(\"chinese_news_trans/*/*.[tT][xX][tT]\")\n",
    "cats = []\n",
    "contents = []\n",
    "for fname in fs:\n",
    "    fn = os.path.split(fname)[-1]\n",
    "    with open(fname, \"r\", encoding=\"utf-8\") as f:\n",
    "        content = f.read()\n",
    "        contents.append(content)\n",
    "    dn = os.path.split(fname)[0]\n",
    "    dn = os.path.split(dn)[-1]\n",
    "    cats.append(dn)\n",
    "train_df = pd.DataFrame({\n",
    "    \"content\":contents,\n",
    "    \"ans\":cats\n",
    "})\n",
    "train_df"
   ]
  },
  {
   "cell_type": "code",
   "execution_count": 14,
   "metadata": {},
   "outputs": [
    {
     "data": {
      "text/plain": [
       "{'交通': 0,\n",
       " '政治': 1,\n",
       " '教育': 2,\n",
       " '環境': 3,\n",
       " '經濟': 4,\n",
       " '藝術': 5,\n",
       " '計算機': 6,\n",
       " '軍事': 7,\n",
       " '醫藥': 8,\n",
       " '體育': 9}"
      ]
     },
     "execution_count": 14,
     "metadata": {},
     "output_type": "execute_result"
    }
   ],
   "source": [
    "# unique\n",
    "labels = train_df[\"ans\"].unique()\n",
    "trans = {label:i for i, label in enumerate(labels)}\n",
    "reverse_trans = {i:label for i, label in enumerate(labels)}\n",
    "trans"
   ]
  },
  {
   "cell_type": "code",
   "execution_count": 15,
   "metadata": {},
   "outputs": [],
   "source": [
    "from urllib.request import urlretrieve\n",
    "url = \" https://github.com/fxsjy/jieba/raw/master/extra_dict/dict.txt.big\"\n",
    "urlretrieve(url, \"dict.txt.big\")\n",
    "import jieba\n",
    "jieba.set_dictionary(\"dict.txt.big\")"
   ]
  },
  {
   "cell_type": "code",
   "execution_count": 16,
   "metadata": {},
   "outputs": [],
   "source": [
    "def newscut(s):\n",
    "    s = s.replace(\"\\r\", \"\").replace(\"\\n\", \"\")\n",
    "    return \" \".join(jieba.cut(s))\n"
   ]
  },
  {
   "cell_type": "code",
   "execution_count": 17,
   "metadata": {},
   "outputs": [
    {
     "name": "stderr",
     "output_type": "stream",
     "text": [
      "Building prefix dict from C:\\Users\\user\\PycharmProjects\\MLDemo\\dict.txt.big ...\n",
      "Dumping model to file cache C:\\Users\\user\\AppData\\Local\\Temp\\jieba.u8b0aede1d05d994ba4294f10e50c49e7.cache\n",
      "Loading model cost 1.437 seconds.\n",
      "Prefix dict has been built succesfully.\n"
     ]
    },
    {
     "data": {
      "text/plain": [
       "0      日月 光華   - -   Traffic _ Info 精華區 文章 閱讀 - - - -...\n",
       "1      日月 光華   - -   Traffic _ Info 精華區 文章 閱讀 - - - -...\n",
       "2      日月 光華   - -   Traffic _ Info 精華區 文章 閱讀 - - - -...\n",
       "3      三趟 火車 停開   乘客 可 全額 退票   瀏覽 次數 ： 1180          ...\n",
       "4      日月 光華   - -   Traffic _ Info 精華區 文章 閱讀 - - - -...\n",
       "                             ...                        \n",
       "96     最 優秀 選手 無緣 亞運會 健美 賽   　           健美 在 亞洲 運動會 ...\n",
       "97       各國 記者 眼中 的 羽毛球 世錦賽   - - - - - - - - - - - -...\n",
       "98     友好 運動會 第五天   東道主 選手 大顯神威 2001 年 09 月 03 日 02 :...\n",
       "99     不靠 技術 比 運氣 　 　 第二屆 奧運會 在 巴黎 舉行 ， 同時 這裡 也 正在 舉行...\n",
       "100    帆   板   運   動   簡   介 （ 二 ） 　 　 我國 在 79 年 由 國家...\n",
       "Name: content, Length: 101, dtype: object"
      ]
     },
     "execution_count": 17,
     "metadata": {},
     "output_type": "execute_result"
    }
   ],
   "source": [
    "# # apply: pandas重要操作 拿來對整個行作操作\n",
    "\n",
    "x_train = train_df[\"content\"].apply(newscut)\n",
    "x_test = test_df[\"content\"].apply(newscut)\n",
    "x_test"
   ]
  },
  {
   "cell_type": "code",
   "execution_count": 18,
   "metadata": {},
   "outputs": [
    {
     "data": {
      "text/plain": [
       "0      0\n",
       "1      0\n",
       "2      0\n",
       "3      0\n",
       "4      0\n",
       "      ..\n",
       "96     9\n",
       "97     9\n",
       "98     9\n",
       "99     9\n",
       "100    9\n",
       "Name: ans, Length: 101, dtype: int64"
      ]
     },
     "execution_count": 18,
     "metadata": {},
     "output_type": "execute_result"
    }
   ],
   "source": [
    "y_train = train_df[\"ans\"].replace(trans)\n",
    "y_test = test_df[\"ans\"].replace(trans)\n",
    "y_test"
   ]
  },
  {
   "cell_type": "code",
   "execution_count": 19,
   "metadata": {},
   "outputs": [
    {
     "name": "stdout",
     "output_type": "stream",
     "text": [
      "  (0, 626)\t1\n",
      "  (0, 20654)\t2\n",
      "  (0, 73906)\t4\n",
      "  (0, 29640)\t2\n",
      "  (0, 53912)\t2\n",
      "  (0, 31428)\t2\n",
      "  (0, 27166)\t1\n",
      "  (0, 38990)\t1\n",
      "  (0, 66764)\t1\n",
      "  (0, 35029)\t1\n",
      "  (0, 48231)\t1\n",
      "  (0, 22855)\t1\n",
      "  (0, 62078)\t1\n",
      "  (0, 10918)\t1\n",
      "  (0, 55951)\t1\n",
      "  (0, 67170)\t1\n",
      "  (0, 68602)\t1\n",
      "  (0, 30884)\t1\n",
      "  (0, 65118)\t1\n",
      "  (0, 10846)\t1\n",
      "  (0, 52653)\t1\n",
      "  (0, 31453)\t1\n",
      "  (0, 14733)\t1\n",
      "  (0, 68642)\t1\n",
      "  (0, 15400)\t1\n",
      "  :\t:\n",
      "  (2636, 73188)\t1\n",
      "  (2636, 70662)\t2\n",
      "  (2636, 49330)\t1\n",
      "  (2636, 49338)\t1\n",
      "  (2636, 10663)\t1\n",
      "  (2636, 38407)\t1\n",
      "  (2636, 29424)\t4\n",
      "  (2636, 50859)\t2\n",
      "  (2636, 39162)\t1\n",
      "  (2636, 62514)\t1\n",
      "  (2636, 60105)\t1\n",
      "  (2636, 11821)\t1\n",
      "  (2636, 70234)\t1\n",
      "  (2636, 59690)\t1\n",
      "  (2636, 60113)\t1\n",
      "  (2636, 11811)\t1\n",
      "  (2636, 50854)\t1\n",
      "  (2636, 43165)\t1\n",
      "  (2636, 74271)\t1\n",
      "  (2636, 71256)\t2\n",
      "  (2636, 18860)\t1\n",
      "  (2636, 53905)\t1\n",
      "  (2636, 8235)\t1\n",
      "  (2636, 24183)\t1\n",
      "  (2636, 50853)\t1\n"
     ]
    }
   ],
   "source": [
    "from sklearn.feature_extraction.text import CountVectorizer\n",
    "vec = CountVectorizer()\n",
    "\n",
    "x_train_vec = vec.fit_transform(x_train)\n",
    "\n",
    "# test不要再fit\n",
    "x_test_vec = vec.transform(x_test)\n",
    "print(x_train_vec)"
   ]
  },
  {
   "cell_type": "code",
   "execution_count": 20,
   "metadata": {},
   "outputs": [
    {
     "data": {
      "text/plain": [
       "MultinomialNB(alpha=1.0, class_prior=None, fit_prior=True)"
      ]
     },
     "execution_count": 20,
     "metadata": {},
     "output_type": "execute_result"
    }
   ],
   "source": [
    "from sklearn.naive_bayes import MultinomialNB\n",
    "clf = MultinomialNB()\n",
    "clf.fit(x_train_vec,y_train)"
   ]
  },
  {
   "cell_type": "code",
   "execution_count": 21,
   "metadata": {},
   "outputs": [
    {
     "data": {
      "text/plain": [
       "1.0"
      ]
     },
     "execution_count": 21,
     "metadata": {},
     "output_type": "execute_result"
    }
   ],
   "source": [
    "from sklearn.metrics import accuracy_score\n",
    "pre = clf.predict(x_test_vec)\n",
    "accuracy_score(pre, y_test)"
   ]
  },
  {
   "cell_type": "code",
   "execution_count": 22,
   "metadata": {},
   "outputs": [
    {
     "name": "stdout",
     "output_type": "stream",
     "text": [
      "輸入新聞:媒體引用爆料者消息指鴻海集團內鬼盜賣iPhone零件牟利。對此，鴻海科技集團今（18）日晚間第二次發布聲明強調，「客戶年損失900億元是子虛烏有。」另為維護股東權益及公司商譽，公司也將對爆料者保留法律追訴權。 鴻海今日晚間第二次發布的聲明如下：  有關週刊媒體報導，集團有內鬼導致客戶年損失新台幣900億元的傳聞完全是子虛烏有，也不禁讓人懷疑爆料者是否別有居心、惡意傷害公司。相關報導內容公司除了啟動查核機制，並已請有關單位進行偵查，但對於爆料者企圖打擊集團形象之行為，為維護股東權益及公司商譽，公司也將對爆料者保留法律追訴權，亦同時籲請各媒體，切勿隨之起舞。\n",
      "******************************\n",
      "這個新聞應該是: 計算機\n",
      "******************************\n",
      "類別: 計算機 機率: 0.9992983672570994\n",
      "類別: 經濟 機率: 0.0007016327428489024\n",
      "類別: 軍事 機率: 3.947908681879318e-16\n",
      "類別: 交通 機率: 3.05077716175444e-19\n",
      "類別: 環境 機率: 1.4184412033277396e-24\n",
      "類別: 教育 機率: 8.556083777909012e-26\n",
      "類別: 政治 機率: 1.884247050642359e-26\n",
      "類別: 藝術 機率: 8.777882419241978e-28\n",
      "類別: 體育 機率: 5.541059895416939e-38\n",
      "類別: 醫藥 機率: 1.5919830329850723e-39\n"
     ]
    }
   ],
   "source": [
    "n = input(\"輸入新聞:\")\n",
    "n = newscut(n)\n",
    "n = vec.transform([n])\n",
    "pi = reverse_trans[clf.predict(n)[0]]\n",
    "print(\"*\" * 30)\n",
    "print(\"這個新聞應該是:\", pi)\n",
    "print(\"*\" * 30)\n",
    "proba = clf.predict_proba(n)[0]\n",
    "proba = sorted(list(zip(trans, proba)),\n",
    "               reverse=True,\n",
    "               key=lambda x:x[1])\n",
    "for l, p in proba:\n",
    "    print(\"類別:\", l, \"機率:\", p)"
   ]
  },
  {
   "cell_type": "code",
   "execution_count": 23,
   "metadata": {},
   "outputs": [
    {
     "name": "stdout",
     "output_type": "stream",
     "text": [
      "1 4 7\n",
      "2 5 8\n",
      "3 6 9\n"
     ]
    }
   ],
   "source": [
    "# zip([1, 2, 3], [4, 5, 6], [7, 8, 9])\n",
    "for i, j, k in zip([1, 2, 3], [4, 5, 6], [7, 8, 9]):\n",
    "    print(i, j, k)"
   ]
  },
  {
   "cell_type": "code",
   "execution_count": 24,
   "metadata": {},
   "outputs": [
    {
     "data": {
      "text/plain": [
       "[4, 3, 1]"
      ]
     },
     "execution_count": 24,
     "metadata": {},
     "output_type": "execute_result"
    }
   ],
   "source": [
    "sorted([1, 4, 3], reverse=True)"
   ]
  },
  {
   "cell_type": "code",
   "execution_count": 25,
   "metadata": {},
   "outputs": [
    {
     "data": {
      "text/plain": [
       "[('ooo', 4), ('aaaa', 3), ('xxx', 1)]"
      ]
     },
     "execution_count": 25,
     "metadata": {},
     "output_type": "execute_result"
    }
   ],
   "source": [
    "#def pick(x):\n",
    "#    return x[1]\n",
    "sorted([(\"xxx\", 1), (\"ooo\", 4), (\"aaaa\", 3)], \n",
    "       reverse=True,\n",
    "       key=lambda x:x[1])"
   ]
  }
 ],
 "metadata": {
  "kernelspec": {
   "display_name": "Python 3",
   "language": "python",
   "name": "python3"
  },
  "language_info": {
   "codemirror_mode": {
    "name": "ipython",
    "version": 3
   },
   "file_extension": ".py",
   "mimetype": "text/x-python",
   "name": "python",
   "nbconvert_exporter": "python",
   "pygments_lexer": "ipython3",
   "version": "3.7.5"
  }
 },
 "nbformat": 4,
 "nbformat_minor": 2
}
